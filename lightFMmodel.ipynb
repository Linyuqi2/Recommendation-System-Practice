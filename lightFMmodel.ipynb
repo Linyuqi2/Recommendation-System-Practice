{
 "cells": [
  {
   "cell_type": "markdown",
   "id": "7f661693",
   "metadata": {},
   "source": [
    "# A Simple Game Recommendation System Built Using LightFM"
   ]
  },
  {
   "cell_type": "markdown",
   "id": "3d30b3c2",
   "metadata": {},
   "source": [
    "## 1. Import all packages to set up the environment"
   ]
  },
  {
   "cell_type": "code",
   "execution_count": 8,
   "id": "475de66f",
   "metadata": {},
   "outputs": [],
   "source": [
    "import warnings\n",
    "warnings.filterwarnings('ignore')\n",
    "import pandas as pd\n",
    "import os\n",
    "import sys\n",
    "import itertools\n",
    "import pandas as pd\n",
    "import numpy as np\n",
    "from numpy.linalg import inv\n",
    "import matplotlib.pyplot as plt\n",
    "import seaborn as sns\n",
    "\n",
    "import lightfm\n",
    "from lightfm import LightFM\n",
    "from lightfm.data import Dataset\n",
    "from lightfm.evaluation import precision_at_k, recall_at_k, auc_score\n",
    "import numpy as np\n",
    "from lightfm.cross_validation import random_train_test_split\n",
    "import os\n",
    "from scipy.sparse import csr_matrix"
   ]
  },
  {
   "cell_type": "markdown",
   "id": "a7154c8f",
   "metadata": {},
   "source": [
    "## 2. Data Extraction & Cleaning\n",
    "\n",
    "First, read the game data from csv file. There are some DLCs included in the file, which will not be evaluated and recommended to users. Therefore, those rows are excluded."
   ]
  },
  {
   "cell_type": "code",
   "execution_count": 9,
   "id": "4907eee7",
   "metadata": {},
   "outputs": [
    {
     "name": "stdout",
     "output_type": "stream",
     "text": [
      "<class 'pandas.core.frame.DataFrame'>\n",
      "Index: 38021 entries, 0 to 40832\n",
      "Data columns (total 20 columns):\n",
      " #   Column                    Non-Null Count  Dtype  \n",
      "---  ------                    --------------  -----  \n",
      " 0   url                       38021 non-null  object \n",
      " 1   types                     38021 non-null  object \n",
      " 2   name                      38007 non-null  object \n",
      " 3   desc_snippet              24802 non-null  object \n",
      " 4   recent_reviews            2706 non-null   object \n",
      " 5   all_reviews               28470 non-null  object \n",
      " 6   release_date              37654 non-null  object \n",
      " 7   developer                 37721 non-null  object \n",
      " 8   publisher                 33021 non-null  object \n",
      " 9   popular_tags              37888 non-null  object \n",
      " 10  game_details              37546 non-null  object \n",
      " 11  languages                 38007 non-null  object \n",
      " 12  achievements              12194 non-null  float64\n",
      " 13  genre                     37625 non-null  object \n",
      " 14  game_description          37920 non-null  object \n",
      " 15  mature_content            2897 non-null   object \n",
      " 16  minimum_requirements      21069 non-null  object \n",
      " 17  recommended_requirements  21075 non-null  object \n",
      " 18  original_price            34999 non-null  object \n",
      " 19  discount_price            11746 non-null  object \n",
      "dtypes: float64(1), object(19)\n",
      "memory usage: 6.1+ MB\n"
     ]
    }
   ],
   "source": [
    "games_df = pd.read_csv('steam_games.csv')\n",
    "games_df = games_df[games_df['types'] == 'app'].copy()\n",
    "games_df.info()"
   ]
  },
  {
   "cell_type": "markdown",
   "id": "b5d6ab88",
   "metadata": {},
   "source": [
    "Developers, publishers, tags, languages, genre, and game_details will be viewed as core features of a game. If any of those columns are null, the game does not have full information. Those games will also be excluded."
   ]
  },
  {
   "cell_type": "code",
   "execution_count": 10,
   "id": "33d5f608",
   "metadata": {},
   "outputs": [
    {
     "name": "stdout",
     "output_type": "stream",
     "text": [
      "<class 'pandas.core.frame.DataFrame'>\n",
      "Index: 32546 entries, 0 to 40832\n",
      "Data columns (total 20 columns):\n",
      " #   Column                    Non-Null Count  Dtype  \n",
      "---  ------                    --------------  -----  \n",
      " 0   url                       32546 non-null  object \n",
      " 1   types                     32546 non-null  object \n",
      " 2   name                      32546 non-null  object \n",
      " 3   desc_snippet              24007 non-null  object \n",
      " 4   recent_reviews            2652 non-null   object \n",
      " 5   all_reviews               25835 non-null  object \n",
      " 6   release_date              32251 non-null  object \n",
      " 7   developer                 32546 non-null  object \n",
      " 8   publisher                 32546 non-null  object \n",
      " 9   popular_tags              32546 non-null  object \n",
      " 10  game_details              32546 non-null  object \n",
      " 11  languages                 32546 non-null  object \n",
      " 12  achievements              12060 non-null  float64\n",
      " 13  genre                     32546 non-null  object \n",
      " 14  game_description          32497 non-null  object \n",
      " 15  mature_content            2686 non-null   object \n",
      " 16  minimum_requirements      17342 non-null  object \n",
      " 17  recommended_requirements  17347 non-null  object \n",
      " 18  original_price            29772 non-null  object \n",
      " 19  discount_price            10358 non-null  object \n",
      "dtypes: float64(1), object(19)\n",
      "memory usage: 5.2+ MB\n"
     ]
    }
   ],
   "source": [
    "games_df.dropna(subset=['name','developer','publisher','popular_tags','languages','genre','game_details'], how='any', inplace=True)\n",
    "games_df.info()"
   ]
  },
  {
   "cell_type": "markdown",
   "id": "f93e70a9",
   "metadata": {},
   "source": [
    "Next, we read the user rating data. Data includes five columns: user ID, App ID, hours user spends on the game, whether they purchase the game, and whether they opened the game. Since this table shows the record of user's owned games, the \"purchase\" column is always 1. Furthermore, if user never open the game, the \"hour\" column will be 0. Therefore, \"hour\" column describes the overall rating of user on a game."
   ]
  },
  {
   "cell_type": "code",
   "execution_count": 11,
   "id": "dec90d39",
   "metadata": {},
   "outputs": [
    {
     "name": "stdout",
     "output_type": "stream",
     "text": [
      "<class 'pandas.core.frame.DataFrame'>\n",
      "RangeIndex: 128804 entries, 0 to 128803\n",
      "Data columns (total 5 columns):\n",
      " #   Column    Non-Null Count   Dtype  \n",
      "---  ------    --------------   -----  \n",
      " 0   SteamID   128804 non-null  int64  \n",
      " 1   AppID     128804 non-null  object \n",
      " 2   hours     128804 non-null  float64\n",
      " 3   purchase  128804 non-null  int64  \n",
      " 4   play      128804 non-null  int64  \n",
      "dtypes: float64(1), int64(3), object(1)\n",
      "memory usage: 4.9+ MB\n"
     ]
    }
   ],
   "source": [
    "users_rating_df = pd.read_csv(\"steam_users_purchase_play.csv\")\n",
    "users_rating_df.info()"
   ]
  },
  {
   "cell_type": "markdown",
   "id": "7552b9f4",
   "metadata": {},
   "source": [
    "In the next part, we found some game names in rating data, but not in game data. Those are counted as invaluable ratings and will be excluded from rating data. To approach this, we first convert the name of games in both data frame to lower case and remove any spaces."
   ]
  },
  {
   "cell_type": "code",
   "execution_count": 12,
   "id": "13fd2ee7",
   "metadata": {},
   "outputs": [],
   "source": [
    "users_rating_df['name_norm'] = (\n",
    "    users_rating_df['AppID']\n",
    "    .str.lower()                        \n",
    "    .str.replace(r'\\s+', '', regex=True)  \n",
    ")\n",
    "\n",
    "games_df['name_norm'] = (\n",
    "    games_df['name']\n",
    "    .str.lower()                        \n",
    "    .str.replace(r'\\s+', '', regex=True)  \n",
    ")\n",
    "\n"
   ]
  },
  {
   "cell_type": "markdown",
   "id": "dfe4d89d",
   "metadata": {},
   "source": [
    "Then, we found out the missing games and remove them from the rating data."
   ]
  },
  {
   "cell_type": "code",
   "execution_count": 13,
   "id": "bf488dcd",
   "metadata": {},
   "outputs": [
    {
     "name": "stdout",
     "output_type": "stream",
     "text": [
      "Total rated items:   5153\n",
      "Total known games:    32476\n",
      "Unregistered items:   3215\n",
      "Examples: ['nba2k10', 'deathraymanta', 'lillyandsashacurseoftheimmortals', 'gunz2thesecondduel', 'disciplesiiirenaissance', 'thedarkeyechainsofsatinav', 'lumberisland-thatspecialplace', 'icewinddaleenhancededition', 'thief-ghost', 'mlb2k11', 'thenovelist', 'ronin', 'aceofspades', 'shadowgatemacventureseries', 'cidthedummy', 'earth2150lostsouls', 'torvald-hunter(assaultclass)', 'woodletreeadventures', 'uebergame', 'badrats']\n",
      "Total rows with missing games: 73007\n"
     ]
    }
   ],
   "source": [
    "rated_items = set(users_rating_df['name_norm'].unique())\n",
    "known_items = set(games_df['name_norm'].unique())\n",
    "\n",
    "missing = rated_items - known_items\n",
    "\n",
    "print(f\"Total rated items:   {len(rated_items)}\")\n",
    "print(f\"Total known games:    {len(known_items)}\")\n",
    "print(f\"Unregistered items:   {len(missing)}\")\n",
    "print(\"Examples:\", list(missing)[:20])\n",
    "\n",
    "mask_missing = ~users_rating_df['name_norm'].isin(known_items)\n",
    "missing_rows = users_rating_df[mask_missing]\n",
    "\n",
    "print(\"Total rows with missing games:\", len(missing_rows))\n",
    "\n",
    "users_rating_df = users_rating_df[~mask_missing].copy()\n",
    "\n"
   ]
  },
  {
   "cell_type": "markdown",
   "id": "cf875fc7",
   "metadata": {},
   "source": [
    "## 3.Model Training\n",
    "\n",
    "After the cleaning of data, we now make a \"feature\" column for each game to fit the model in future training."
   ]
  },
  {
   "cell_type": "code",
   "execution_count": 14,
   "id": "b4250f36",
   "metadata": {},
   "outputs": [],
   "source": [
    "def make_features(row):\n",
    "    feats = []\n",
    "    for pub in str(row.get('publisher', '')).split(','):\n",
    "        pub = pub.strip()\n",
    "        if pub:\n",
    "            feats.append(f\"publisher:{pub}\")\n",
    "\n",
    "    for dev in str(row.get('developer', '')).split(','):\n",
    "        dev = dev.strip()\n",
    "        if dev:\n",
    "            feats.append(f\"developer:{dev}\")\n",
    "\n",
    "    for lang in str(row.get('languages', '')).split(','):\n",
    "        lang = lang.strip()\n",
    "        if lang:\n",
    "            feats.append(f\"language:{lang}\")\n",
    "\n",
    "    for genre in str(row.get('genre', '')).split(','):\n",
    "        genre = genre.strip()\n",
    "        if genre:\n",
    "            feats.append(f\"genre:{genre}\")\n",
    "    for tag in str(row.get('popular_tags', '')).split(','):\n",
    "        tag = tag.strip()\n",
    "        if tag:\n",
    "            feats.append(f\"tag:{tag}\")\n",
    "    for detail in str(row.get('game_details', '')).split(','):\n",
    "        detail = detail.strip()\n",
    "        if detail:\n",
    "            feats.append(f\"detail:{detail}\")\n",
    "    return feats\n",
    "\n",
    "text_cols = ['publisher', 'developer', 'types', 'popular_tags', 'languages', 'genre']\n",
    "games_df[text_cols] = games_df[text_cols].fillna('').astype(str)\n",
    "\n",
    "games_df[\"feature_list\"] = games_df.apply(make_features, axis=1)\n",
    "\n"
   ]
  },
  {
   "cell_type": "markdown",
   "id": "9839f0c9",
   "metadata": {},
   "source": [
    "The \"feature_list\" includes all features a game has, including their publishers, developers, languages, genre, tags, and game details."
   ]
  },
  {
   "cell_type": "code",
   "execution_count": 16,
   "id": "c820d114",
   "metadata": {},
   "outputs": [
    {
     "data": {
      "text/plain": [
       "0        [publisher:Bethesda Softworks, publisher:Bethe...\n",
       "1        [publisher:PUBG Corporation, publisher:PUBG Co...\n",
       "2        [publisher:Paradox Interactive, publisher:Para...\n",
       "3        [publisher:Bohemia Interactive, publisher:Bohe...\n",
       "4        [publisher:CCP, publisher:CCP, developer:CCP, ...\n",
       "                               ...                        \n",
       "40824    [publisher:Self-published, publisher:Self-publ...\n",
       "40825    [publisher:Gustavo Contreras, publisher:Gustav...\n",
       "40826    [publisher:OldGHZ, publisher:OldGHZ, developer...\n",
       "40831    [publisher:CAPCOM CO., publisher:LTD, publishe...\n",
       "40832    [publisher:Self-Publish, publisher:Self-Publis...\n",
       "Name: feature_list, Length: 32546, dtype: object"
      ]
     },
     "execution_count": 16,
     "metadata": {},
     "output_type": "execute_result"
    }
   ],
   "source": [
    "games_df[\"feature_list\"]"
   ]
  },
  {
   "cell_type": "markdown",
   "id": "2899b504",
   "metadata": {},
   "source": [
    "Create data set and train the model:"
   ]
  },
  {
   "cell_type": "code",
   "execution_count": 17,
   "id": "34922262",
   "metadata": {},
   "outputs": [],
   "source": [
    "all_users = users_rating_df['SteamID'].unique().tolist()  + [114514]\n",
    "all_feats = set()\n",
    "for feats in games_df['feature_list']:\n",
    "    all_feats.update(feats)\n",
    "all_feats = list(all_feats)\n",
    "\n",
    "ds = Dataset()\n",
    "ds.fit(\n",
    "    users=all_users,     \n",
    "    user_features= {},\n",
    "    items=games_df['name_norm'].unique(),            \n",
    "    item_features=all_feats  \n",
    ")"
   ]
  },
  {
   "cell_type": "code",
   "execution_count": 18,
   "id": "b40aa470",
   "metadata": {},
   "outputs": [
    {
     "data": {
      "text/plain": [
       "<lightfm.lightfm.LightFM at 0x74f40db4eb50>"
      ]
     },
     "execution_count": 18,
     "metadata": {},
     "output_type": "execute_result"
    }
   ],
   "source": [
    "(interactions, weights) = ds.build_interactions(\n",
    "    [(row['SteamID'], row['name_norm'], row['hours'])\n",
    "     for _, row in users_rating_df.iterrows()]\n",
    ")\n",
    "\n",
    "item_features = ds.build_item_features(\n",
    "    [(row['name_norm'], row['feature_list'])\n",
    "     for _, row in games_df.iterrows()]\n",
    ")\n",
    "\n",
    "model = LightFM(loss=\"warp\")\n",
    "model.fit(interactions,\n",
    "          item_features=item_features,\n",
    "          sample_weight=weights,\n",
    "          epochs=30,\n",
    "          num_threads=4)"
   ]
  },
  {
   "cell_type": "markdown",
   "id": "abc05449",
   "metadata": {},
   "source": [
    "## 4. Call trained model\n",
    "\n",
    "The lightFM model can work in two ways. The first way is provide recommendations for users who are already in the user data. This works similar to classic model of ALS, which we input a user's id and the recommendation result will easily show up. Here is an illustration to approach this:"
   ]
  },
  {
   "cell_type": "code",
   "execution_count": 19,
   "id": "986cd23a",
   "metadata": {},
   "outputs": [
    {
     "name": "stdout",
     "output_type": "stream",
     "text": [
      "For user: 151603712 Top 10 games:\n",
      " ['half-life2:deathmatch', 'half-lifedeathmatch:source', 'left4dead2', 'unturned', 'dungeondefenders', 'teamfortress2', \"garry'smod\", 'alienswarm', 'warframe', 'terraria']\n"
     ]
    }
   ],
   "source": [
    "# inv map\n",
    "user_id_map, _, item_id_map, _ = ds.mapping()\n",
    "inv_user_map = {v: k for k, v in user_id_map.items()}\n",
    "inv_item_map = {v: k for k, v in item_id_map.items()}\n",
    "\n",
    "orig_uid = 151603712 #take the existing uid as an example\n",
    "\n",
    "# change id to index in order to read data\n",
    "if orig_uid not in user_id_map:\n",
    "    raise ValueError(f\"unknown id: {orig_uid}\")\n",
    "uid_internal = user_id_map[orig_uid]\n",
    "n_items = len(item_id_map)\n",
    "item_idx = np.arange(n_items)\n",
    "\n",
    "# Score for this user on all games\n",
    "scores = model.predict(\n",
    "    user_ids=uid_internal,\n",
    "    item_ids=item_idx,   \n",
    "    item_features=item_features\n",
    ")\n",
    "\n",
    "N = 10\n",
    "top_internal = np.argsort(-scores)[:N]\n",
    "recommended = [inv_item_map[i] for i in top_internal]\n",
    "\n",
    "print(f\"For user: {orig_uid} Top 10 games:\\n\", recommended)"
   ]
  },
  {
   "cell_type": "markdown",
   "id": "492b5cf6",
   "metadata": {},
   "source": [
    "The second way is called \"Cold start\". This is a method to create a recommendation list for users who are not in current user data(fresh new users). Cold start require user to provide scores on some existing games. Here is a simple example:"
   ]
  },
  {
   "cell_type": "code",
   "execution_count": 20,
   "id": "0f7aefa1",
   "metadata": {},
   "outputs": [
    {
     "name": "stdout",
     "output_type": "stream",
     "text": [
      "V.shape: (32476, 10)\n",
      "Top-10 for new user: ['echoofsoul', 'unturned', 'fallenearthfree2play', 'trove', 'robocraft', 'rift', 'realmofthemadgod', 'defiance', 'archeage', 'tera']\n"
     ]
    }
   ],
   "source": [
    "V_items = item_features.dot(model.item_embeddings)\n",
    "print(\"V.shape:\", V_items.shape)\n",
    "\n",
    "# Get data set\n",
    "uid_map, _,iid_map, feat_map = ds.mapping()\n",
    "\n",
    "# new rating \n",
    "raw_new = {\n",
    "    'half-life2:deathmatch': 5.0,\n",
    "    'half-lifedeathmatch:source': 4.0\n",
    "}\n",
    "new_ratings = {\n",
    "    item_id_map[name]: rating\n",
    "    for name, rating in raw_new.items()\n",
    "}\n",
    "\n",
    "# Extract V to search similar games\n",
    "idxs = np.array(list(new_ratings.keys()), dtype=int)  \n",
    "Vi   = V_items[idxs, :]                                    # (m, k)\n",
    "r    = np.array(list(new_ratings.values()))          # (m,)\n",
    "I   = np.eye(len(V_items[0]))\n",
    "λ   = 1e-6\n",
    "\n",
    "# The analytical solution of least squares\n",
    "u_new = inv(Vi.T @ Vi + λ * I) @ (Vi.T @ r)          # (k,)\n",
    "\n",
    "# score item and give recommendations\n",
    "scores = V_items @ u_new                                    # (n_items,)\n",
    "top_idxs = np.argsort(-scores)[:10]\n",
    "recommendations = [inv_item_map[i] for i in top_idxs]\n",
    "\n",
    "print(\"Top-10 for new user:\", recommendations)"
   ]
  },
  {
   "cell_type": "markdown",
   "id": "ae034eba",
   "metadata": {},
   "source": [
    "## 5. Model Evaluation"
   ]
  },
  {
   "cell_type": "code",
   "execution_count": 21,
   "id": "8a46b3dc",
   "metadata": {},
   "outputs": [
    {
     "name": "stdout",
     "output_type": "stream",
     "text": [
      "Precision@10: 0.0660  Recall@10: 0.4087  AUC: 0.9927\n"
     ]
    }
   ],
   "source": [
    "train, test = random_train_test_split(interactions, test_percentage=0.2, random_state=42)\n",
    "\n",
    "model.fit(train, item_features=item_features, epochs=30, num_threads=4)\n",
    "\n",
    "k = 10\n",
    "prec = precision_at_k(model, test, train_interactions=train,\n",
    "                      item_features=item_features, k=k).mean()\n",
    "rec  = recall_at_k(model, test, train_interactions=train,\n",
    "                   item_features=item_features, k=k).mean()\n",
    "auc  = auc_score(model, test, train_interactions=train,\n",
    "                 item_features=item_features).mean()\n",
    "print(f\"Precision@{k}: {prec:.4f}  Recall@{k}: {rec:.4f}  AUC: {auc:.4f}\")"
   ]
  },
  {
   "cell_type": "code",
   "execution_count": null,
   "id": "7f086ea7",
   "metadata": {},
   "outputs": [],
   "source": []
  }
 ],
 "metadata": {
  "kernelspec": {
   "display_name": "rec_sys_env",
   "language": "python",
   "name": "python3"
  },
  "language_info": {
   "codemirror_mode": {
    "name": "ipython",
    "version": 3
   },
   "file_extension": ".py",
   "mimetype": "text/x-python",
   "name": "python",
   "nbconvert_exporter": "python",
   "pygments_lexer": "ipython3",
   "version": "3.9.23"
  }
 },
 "nbformat": 4,
 "nbformat_minor": 5
}
